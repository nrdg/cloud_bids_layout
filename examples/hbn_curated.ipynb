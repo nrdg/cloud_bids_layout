{
 "cells": [
  {
   "cell_type": "markdown",
   "metadata": {},
   "source": [
    "# Inspecting the HBN/BIDS_curated dataset\n",
    "\n",
    "This notebook demonstrates simple usage of Cloud-BIDS-Layout to inspect the HBN/BIDS_curated dataset hosted on FCP-INDI."
   ]
  },
  {
   "cell_type": "code",
   "execution_count": 1,
   "metadata": {},
   "outputs": [],
   "source": [
    "import cloud_bids_layout as cbl\n",
    "from datetime import datetime"
   ]
  },
  {
   "cell_type": "code",
   "execution_count": 2,
   "metadata": {},
   "outputs": [
    {
     "name": "stdout",
     "output_type": "stream",
     "text": [
      "2020-10-30 14:10:36.073978\n"
     ]
    },
    {
     "name": "stderr",
     "output_type": "stream",
     "text": [
      "/Users/richford/miniconda3/envs/cloud-bids-layout-dev/lib/python3.7/site-packages/bids/layout/models.py:102: FutureWarning: The 'extension' entity currently excludes the leading dot ('.'). As of version 0.14.0, it will include the leading dot. To suppress this warning and include the leading dot, use `bids.config.set_option('extension_initial_dot', True)`.\n",
      "  FutureWarning)\n"
     ]
    },
    {
     "name": "stdout",
     "output_type": "stream",
     "text": [
      "2020-10-30 15:48:53.921596\n"
     ]
    }
   ],
   "source": [
    "print(datetime.now())\n",
    "layout = cbl.CloudBIDSLayout(\n",
    "    remote_location=\"s3://fcp-indi/data/Projects/HBN/BIDS_curated\",\n",
    "    download_dir=\"./hbn-curated\"\n",
    ")\n",
    "print(datetime.now())"
   ]
  },
  {
   "cell_type": "markdown",
   "metadata": {},
   "source": [
    "Now we have a pybids `BIDSLayout` instance and we can use the familiar `get()` method to query our dataset. For example:"
   ]
  },
  {
   "cell_type": "code",
   "execution_count": 3,
   "metadata": {},
   "outputs": [],
   "source": [
    "# Get the subject IDs for all subjects with DWI data\n",
    "dwi_subs = layout.get(return_type=\"id\", target=\"subject\", datatype=\"dwi\")\n",
    "all_subs = layout.get(return_type=\"id\", target=\"subject\")"
   ]
  },
  {
   "cell_type": "code",
   "execution_count": 4,
   "metadata": {},
   "outputs": [
    {
     "name": "stdout",
     "output_type": "stream",
     "text": [
      "Total number of subjects:  2614\n",
      "Total number of subjects with DWI:  1682\n"
     ]
    }
   ],
   "source": [
    "print(\"Total number of subjects: \", len(all_subs))\n",
    "print(\"Total number of subjects with DWI: \", len(dwi_subs))"
   ]
  },
  {
   "cell_type": "code",
   "execution_count": 15,
   "metadata": {},
   "outputs": [],
   "source": [
    "dwi_subs_with_json = layout.get(return_type=\"id\", target=\"subject\", datatype=\"dwi\", extension=\"json\")"
   ]
  },
  {
   "cell_type": "code",
   "execution_count": 18,
   "metadata": {},
   "outputs": [
    {
     "name": "stdout",
     "output_type": "stream",
     "text": [
      "Total number of subject with json sidecars in the DWI directory:  960\n"
     ]
    }
   ],
   "source": [
    "print(\"Total number of subject with json sidecars in the DWI directory: \", len(dwi_subs_with_json))"
   ]
  },
  {
   "cell_type": "code",
   "execution_count": null,
   "metadata": {},
   "outputs": [],
   "source": []
  }
 ],
 "metadata": {
  "kernelspec": {
   "display_name": "Python 3",
   "language": "python",
   "name": "python3"
  },
  "language_info": {
   "codemirror_mode": {
    "name": "ipython",
    "version": 3
   },
   "file_extension": ".py",
   "mimetype": "text/x-python",
   "name": "python",
   "nbconvert_exporter": "python",
   "pygments_lexer": "ipython3",
   "version": "3.7.8"
  }
 },
 "nbformat": 4,
 "nbformat_minor": 4
}
